{
  "cells": [
    {
      "cell_type": "markdown",
      "metadata": {
        "id": "4BQKlUzk4KKR"
      },
      "source": [
        "Trying to use Just Pandas in this file"
      ]
    },
    {
      "cell_type": "code",
      "execution_count": 11,
      "metadata": {
        "colab": {
          "base_uri": "https://localhost:8080/"
        },
        "id": "7DHxR93zIb5b",
        "outputId": "5e741dfa-7be7-4803-9d9d-b07bd01f4639"
      },
      "outputs": [
        {
          "output_type": "stream",
          "name": "stdout",
          "text": [
            "Drive already mounted at /content/drive; to attempt to forcibly remount, call drive.mount(\"/content/drive\", force_remount=True).\n"
          ]
        }
      ],
      "source": [
        "import numpy as np\n",
        "import pandas as ps\n",
        "# import dask.dataframe as ps\n",
        "import math\n",
        "import sys\n",
        "import datetime\n",
        "\n",
        "from google.colab import drive\n",
        "drive.mount('/content/drive')"
      ]
    },
    {
      "cell_type": "markdown",
      "metadata": {
        "id": "Vbq1dbUuYHgU"
      },
      "source": [
        "Start of working on Dataset"
      ]
    },
    {
      "cell_type": "code",
      "execution_count": 12,
      "metadata": {
        "colab": {
          "base_uri": "https://localhost:8080/"
        },
        "id": "s64ZeFR87SsE",
        "outputId": "394370ac-15a0-4a49-fa16-44f64a657c52"
      },
      "outputs": [
        {
          "output_type": "stream",
          "name": "stdout",
          "text": [
            "       userId  itemId  rating\n",
            "0         196     242       3\n",
            "1         186     302       3\n",
            "2          22     377       1\n",
            "3         244      51       2\n",
            "4         166     346       1\n",
            "...       ...     ...     ...\n",
            "99995     880     476       3\n",
            "99996     716     204       5\n",
            "99997     276    1090       1\n",
            "99998      13     225       2\n",
            "99999      12     203       3\n",
            "\n",
            "[100000 rows x 3 columns]\n",
            "<class 'pandas.core.frame.DataFrame'>\n",
            "userId    int64\n",
            "itemId    int64\n",
            "rating    int64\n",
            "dtype: object\n"
          ]
        },
        {
          "output_type": "execute_result",
          "data": {
            "text/plain": [
              "userId    100000\n",
              "itemId    100000\n",
              "rating    100000\n",
              "dtype: int64"
            ]
          },
          "metadata": {},
          "execution_count": 12
        }
      ],
      "source": [
        "# df = spark.read.options(delimiter='\\t', header=False).csv(\"/content/drive/My Drive/Colab Notebooks/Datasets/tiny.data\")\n",
        "# 100K\n",
        "df = ps.read_csv(\"/content/drive/My Drive/Colab Notebooks/Datasets/u.data\", sep=\"\\t\", names=['userId','itemId','rating','timestamp'])\n",
        "# 1M\n",
        "# df = ps.read_csv(\"/content/drive/My Drive/Colab Notebooks/Datasets/ratings.dat\", sep=\"::\", names=['userId','itemId','rating','timestamp'])\n",
        "df.drop('timestamp', inplace=True, axis=1)\n",
        "\n",
        "print(df)\n",
        "print(type(df))\n",
        "print(df.dtypes)\n",
        "df.count()"
      ]
    },
    {
      "cell_type": "code",
      "execution_count": 13,
      "metadata": {
        "colab": {
          "base_uri": "https://localhost:8080/"
        },
        "id": "bbko6cfEdCzl",
        "outputId": "effce8cd-d3b3-4b17-ad4b-1fca41371fed"
      },
      "outputs": [
        {
          "output_type": "stream",
          "name": "stdout",
          "text": [
            "<class 'pandas.core.frame.DataFrame'>\n",
            "userId    int64\n",
            "itemId    int64\n",
            "rating    int64\n",
            "dtype: object\n"
          ]
        }
      ],
      "source": [
        "# Converting userId and itemId to integer\n",
        "df[['userId', 'itemId', 'rating']] = df[['userId', 'itemId', 'rating']].astype(int)\n",
        "print(type(df))\n",
        "print(df.dtypes)"
      ]
    },
    {
      "cell_type": "code",
      "execution_count": 14,
      "metadata": {
        "id": "PiJ2zza80Wkq"
      },
      "outputs": [],
      "source": [
        "def randomMatrix(dimension1, dimenstion2, rank):\n",
        "    return ps.DataFrame(abs(np.random.normal(scale=1./rank,size=(dimension1,dimenstion2))))\n",
        "\n",
        "def get_matrix_dimension(df):\n",
        "  # This function get max user)id and itam_id as reslult, V and H matrix dimension\n",
        "  userMax = df['userId'].max()\n",
        "  itemMax = df['itemId'].max()\n",
        "  userMax += 1\n",
        "  itemMax += 1\n",
        "  return userMax, itemMax\n",
        "\n",
        "def sub_V_WH(WH):\n",
        "  WH['R'] = WH['rating'] - WH['WH']\n",
        "  R = WH.drop(['rating', 'WH'], axis=1)\n",
        "  return R\n",
        "\n",
        "def mult_WH(W, H, WH, rank):\n",
        "  WH = WH.merge(W,on='userId').merge(H,on='itemId')\n",
        "  # print(WH)\n",
        "  colst = ''\n",
        "  colList = []\n",
        "  for k in range (rank):\n",
        "    colst += f\"WH['WC{k}'] * WH['HC{k}'] + \"\n",
        "    colList.append(f\"WC{k}\")\n",
        "    colList.append(f\"HC{k}\")\n",
        "  colst = colst[0:len(colst)-2]\n",
        "  print(colst)\n",
        "  # print(colList)\n",
        "  WH['WH'] = eval(colst)\n",
        "  WH = WH.drop(colList, axis=1)\n",
        "  return WH"
      ]
    },
    {
      "cell_type": "code",
      "execution_count": 15,
      "metadata": {
        "id": "GnfMKdFnETbs"
      },
      "outputs": [],
      "source": [
        "# Split Dataframe to Train and Test\n",
        "num_split = 1000000\n",
        "train_data = df.iloc[:num_split,:]\n",
        "test_data = df.iloc[num_split:,:]\n",
        "# print(train_data)\n",
        "# print(test_data)"
      ]
    },
    {
      "cell_type": "code",
      "execution_count": 16,
      "metadata": {
        "id": "GrmBipSf9WRR"
      },
      "outputs": [],
      "source": [
        "def mult_Wk_Hk(W, H, WkHk, k):\n",
        "  # print(\"mult_Wk_Hk started...\")\n",
        "  # query = f\"select userId, itemId, rating, WC{k} * HC{k} as WH from WkHk, W, H where W.id = WkHk.userId and H.id = WkHk.itemId\"\n",
        "  WkHk = WkHk.merge(W[[f'WC{k}','userId']],on='userId').merge(H[[f'HC{k}','itemId']],on='itemId')\n",
        "  # print(WkHk)\n",
        "  WkHk['WkHk'] = WkHk[f'WC{k}'] * WkHk[f'HC{k}']\n",
        "  WkHk = WkHk.drop([f'WC{k}', f'HC{k}'], axis=1)\n",
        "  # print(WkHk)\n",
        "  # print(\"mult_Wk_Hk ended!\")\n",
        "  return WkHk\n",
        "\n",
        "def R_add_WkHk(R, WkHk):\n",
        "  # print(R)\n",
        "  # print(WkHk)\n",
        "  WkHk = WkHk.merge(R,on=['userId', 'itemId'])\n",
        "  WkHk['Rhat'] = WkHk['R'] + WkHk['WkHk']\n",
        "  Rhat = WkHk.drop(['rating', 'WkHk', 'R'], axis=1)\n",
        "  # print(Rhat)\n",
        "  return Rhat\n",
        "  # Rhat = spark1.sql(\"SELECT int(R.userId), int(R.itemId), (float(R.R) + float(WkHk.WH)) as Rhat  FROM R, WkHk where R.itemId = WkHk.itemId and R.userId = WkHk.userId\")\n",
        "\n",
        "def Rhat_minus_WkHk(Rhat, WkHk):\n",
        "  # print(\"Rhat_minus_WkHk started...\")\n",
        "  WkHk = WkHk.merge(Rhat,on=['userId', 'itemId'])\n",
        "  WkHk['R'] = WkHk['Rhat'] - WkHk['WkHk']\n",
        "  R = WkHk.drop(['rating', 'WkHk', 'Rhat'], axis=1)\n",
        "  # print(R)\n",
        "  # print(\"Rhat_minus_WkHk ended!\")\n",
        "  return R\n",
        "  # R = spark1.sql(\"SELECT int(Rhat.userId), int(Rhat.itemId), (float(Rhat.Rhat) - float(WkHk.WH)) as R FROM Rhat, WkHk where Rhat.itemId = WkHk.itemId and Rhat.userId = WkHk.userId\")\n",
        "\n",
        "def Update_W_H(W, H, Rhat, k, lamda):\n",
        "  # print(f\" k = {k}\")\n",
        "  # print(Rhat)  \n",
        "  # print(\"Update_W_H started...\")\n",
        "  # print(\"Start Select aggregation...\")\n",
        "  # query = f\"SELECT Rhat.userId, sum(Rhat.Rhat * H.HC0) / (sum(power(H.HC0,2))+{lamda}) as value FROM Rhat, H where Rhat.itemId = H.id group by Rhat.userId\"\n",
        "\n",
        "  WkHk = Rhat.merge(H[[f'HC{k}','itemId']],on='itemId')\n",
        "  WkHk['s'] = WkHk['Rhat'] * WkHk[f'HC{k}']\n",
        "  WkHk['m'] = WkHk[f'HC{k}'] ** 2\n",
        "  # print(WkHk)\n",
        "  sums = WkHk.groupby('userId').agg({'s': 'sum'}).reset_index(level=0)\n",
        "  summ = WkHk.groupby('userId').agg({'m': 'sum'}).reset_index(level=0)\n",
        "  new_W_ik = sums.merge(summ,on='userId')\n",
        "  new_W_ik[f'WC{k}'] = new_W_ik['s'] / (new_W_ik['m'] + lamda)\n",
        "  new_W_ik = new_W_ik.drop(['s', 'm'], axis=1)\n",
        "  \n",
        "  # query = f\"SELECT Rhat.itemId, sum(Rhat.Rhat * W.WC0) / (sum(power(W.WC0,2))+{lamda}) as value FROM W join Rhat on W.id = Rhat.userId group by Rhat.itemId\"\n",
        "  WkHk = Rhat.merge(W[[f'WC{k}','userId']],on='userId')\n",
        "  WkHk['s'] = WkHk['Rhat'] * WkHk[f'WC{k}']\n",
        "  WkHk['m'] = WkHk[f'WC{k}'] ** 2 \n",
        "  # print(WkHk)\n",
        "  sums = WkHk.groupby('itemId').agg({'s': 'sum'}).reset_index(level=0)\n",
        "  summ = WkHk.groupby('itemId').agg({'m': 'sum'}).reset_index(level=0)\n",
        "  new_H_ik = sums.merge(summ,on='itemId')\n",
        "  new_H_ik[f'HC{k}'] = new_H_ik['s'] / (new_H_ik['m'] + lamda)\n",
        "  new_H_ik = new_H_ik.drop(['s', 'm'], axis=1)\n",
        "\n",
        "  # print(W)\n",
        "  W = W.drop(f'WC{k}', axis=1)\n",
        "  W = W.merge(new_W_ik, on = 'userId')\n",
        "  # print(new_W_ik)\n",
        "  # print(W)\n",
        "\n",
        "  # print(H)\n",
        "  H = H.drop(f'HC{k}', axis=1)\n",
        "  H = H.merge(new_H_ik, on = 'itemId')\n",
        "  # print(new_H_ik)\n",
        "  # print(H)\n",
        "  return W, H\n",
        "\n",
        "def ccd_iteration(W, H, R, k):\n",
        "  for rank in range(k):\n",
        "    WkHk = mult_Wk_Hk(W, H, V, rank)\n",
        "    # print(WkHk)\n",
        "    # print(\"WkHk calculated For Rhat.\")\n",
        "    Rhat = R_add_WkHk(R, WkHk)\n",
        "    # print(Rhat)\n",
        "    # print(\"Rhat calculated.\")\n",
        "    W, H = Update_W_H(W, H, Rhat, rank, lamda)\n",
        "    # print(W)\n",
        "    # print(H)\n",
        "    # sys.exit()\n",
        "    # print(\"W, H  Updated on k.\")\n",
        "    WkHk = mult_Wk_Hk(W, H, V, rank)\n",
        "    # print(WkHk)\n",
        "    # print(\"WkHk calculated for R.\")\n",
        "    R = Rhat_minus_WkHk(Rhat, WkHk)\n",
        "    # print(R)\n",
        "    # print(\"R calculated.\")\n",
        "  return W, H, R\n",
        "\n",
        "def rmse_WH_V(WH):\n",
        "  WH['diff'] = (WH['rating'] - WH['WH']) ** 2\n",
        "  rmse = math.sqrt(WH['diff'].mean())\n",
        "  return rmse\n"
      ]
    },
    {
      "cell_type": "code",
      "execution_count": 21,
      "metadata": {
        "colab": {
          "base_uri": "https://localhost:8080/"
        },
        "id": "5J1Q8TazEPqv",
        "outputId": "f9cca33f-3225-4c88-db6b-0a9b190bb6e5"
      },
      "outputs": [
        {
          "output_type": "stream",
          "name": "stdout",
          "text": [
            "rank: \t 10 \n",
            "lamda: \t 60 \n",
            "\n",
            "944, 1683\n",
            "RMSE: 3.6443983245418243\n"
          ]
        }
      ],
      "source": [
        "# from numpy import genfromtxt\n",
        "k=10\n",
        "lamda=60\n",
        "print('rank: \\t',k,'')\n",
        "print('lamda: \\t',lamda,'\\n')\n",
        "\n",
        "userMax, itemMax = get_matrix_dimension(train_data)\n",
        "print(f\"{userMax}, {itemMax}\")\n",
        "\n",
        "W = randomMatrix(userMax, k, k)\n",
        "H = randomMatrix(k, itemMax, k)\n",
        "H = H.T\n",
        "\n",
        "W = W.reset_index(level=0)\n",
        "H = H.reset_index(level=0)\n",
        "WcolDic = {\"index\": \"userId\"}\n",
        "HcolDic = {\"index\": \"itemId\"}\n",
        "for rank in range (k):\n",
        "  WcolDic[rank] = f\"WC{rank}\"\n",
        "  HcolDic[rank] = f\"HC{rank}\"\n",
        "# print(WcolDic)\n",
        "# print(HcolDic)\n",
        "W = W.rename(columns=WcolDic, errors=\"raise\")\n",
        "H = H.rename(columns=HcolDic, errors=\"raise\")\n",
        "tiny=False\n",
        "if tiny==True:\n",
        "  # Save to disk\n",
        "  # H.write.options(delimiter='\\t', header=True).csv(\"/content/drive/My Drive/Colab Notebooks/Datasets/Htiny.data\")\n",
        "  # W.write.options(delimiter='\\t', header=True).csv(\"/content/drive/My Drive/Colab Notebooks/Datasets/Wtiny.data\")\n",
        "  # Read from disk\n",
        "  # df = ps.read_csv(\"/content/drive/My Drive/Colab Notebooks/Datasets/tiny.data\", sep=\"\\t\", names=['userId','itemId','rating','timestamp'])\n",
        "  W = ps.read_csv(\"/content/drive/My Drive/Colab Notebooks/Datasets/CWtiny.data\", sep=\"\\t\")\n",
        "  H = ps.read_csv(\"/content/drive/My Drive/Colab Notebooks/Datasets/CHtiny.data\", sep=\"\\t\")\n",
        "  # W = ps.read_csv(delimiter='\\t', header=True).csv(\"/content/drive/My Drive/Colab Notebooks/Datasets/Wtiny.data\")\n",
        "  # H = ps.read_csv(delimiter='\\t', header=True).csv(\"/content/drive/My Drive/Colab Notebooks/Datasets/Htiny.data\")\n",
        "  W = W.rename(columns={\"id\": \"userId\", \"WC0\": \"WC0\", \"WC1\": \"WC1\"}, errors=\"raise\")\n",
        "  H = H.rename(columns={\"id\": \"itemId\", \"HC0\": \"HC0\", \"HC1\": \"HC1\"}, errors=\"raise\")\n",
        "  # H = H.astype({'itemId':'int', 'HC0':'float', 'HC1':'float' })\n",
        "  # W = W.astype({'userId':'int', 'WC0':'float', 'WC1':'float' })\n",
        "\n",
        "# print(W)\n",
        "# print(H)\n",
        "\n",
        "V = train_data\n",
        "# print(V)\n",
        "WH = mult_WH(W, H, V, k)\n",
        "# print(WH)\n",
        "# print(type(WH))\n",
        "\n",
        "R = sub_V_WH(WH)\n",
        "# print(R)\n",
        "\n",
        "# print(\"start calculation of rmse... \")\n",
        "rmse = rmse_WH_V(WH)\n",
        "print(f\"RMSE: {rmse}\")\n",
        "# print(\"calculation of rmse end... \")\n"
      ]
    },
    {
      "cell_type": "code",
      "execution_count": 22,
      "metadata": {
        "id": "30W-xMu51Ela",
        "colab": {
          "base_uri": "https://localhost:8080/"
        },
        "outputId": "fdbad416-7764-4cdd-aadf-93e75dc03c27"
      },
      "outputs": [
        {
          "output_type": "stream",
          "name": "stdout",
          "text": [
            "Iteration: 0\n",
            "2023-02-19 14:50:39.450421\n",
            "RMSE: 2.212090629607919\n",
            "Iteration: 1\n",
            "2023-02-19 14:50:40.974876\n",
            "RMSE: 1.21028135914007\n",
            "Iteration: 2\n",
            "2023-02-19 14:50:42.633407\n",
            "RMSE: 1.24323588330429\n",
            "Iteration: 3\n",
            "2023-02-19 14:50:44.105042\n",
            "RMSE: 1.2492657475596498\n",
            "Iteration: 4\n",
            "2023-02-19 14:50:45.508076\n",
            "RMSE: 1.2467705975952643\n",
            "Iteration: 5\n",
            "2023-02-19 14:50:47.095063\n",
            "RMSE: 1.247447477935062\n",
            "Iteration: 6\n",
            "2023-02-19 14:50:48.889888\n",
            "RMSE: 1.2472974895630253\n",
            "Iteration: 7\n",
            "2023-02-19 14:50:51.023696\n",
            "RMSE: 1.2475831356115485\n",
            "Iteration: 8\n",
            "2023-02-19 14:50:52.817058\n",
            "RMSE: 1.2475653482125062\n",
            "Iteration: 9\n",
            "2023-02-19 14:50:54.400993\n",
            "RMSE: 1.2476315967519538\n"
          ]
        }
      ],
      "source": [
        "# print(R)\n",
        "# print(W)\n",
        "# print(H)\n",
        "# print(WH)\n",
        "iteration = 10\n",
        "for i in range(iteration):\n",
        "  print(f\"Iteration: {i}\")\n",
        "  print(datetime.datetime.now())\n",
        "\n",
        "  W, H, R = ccd_iteration(W, H, R, k)\n",
        "  # sys.exit()\n",
        "  # print(W)\n",
        "  # print(H)\n",
        "  # print(R)\n",
        "  if not (i+1)%1:\n",
        "    # print(\"start calculation of new WH for compute rmse... \")\n",
        "    WH = mult_WH(W, H, V, k)\n",
        "    # print(WH)\n",
        "    # print(\"calculation of new WH end... \")\n",
        "    # print(\"start calculation of rmse... \")\n",
        "    rmse = rmse_WH_V(WH)\n",
        "    print(f\"RMSE: {rmse}\")\n",
        "    # sys.exit()\n",
        "\n",
        "    # print(\"calculation of rmse end... \")\n",
        "    if rmse < 0.5:\n",
        "      print(\"Convergenced!\")\n",
        "      break"
      ]
    },
    {
      "cell_type": "code",
      "source": [
        "userMax, itemMax = get_matrix_dimension(WH)\n",
        "print(f\"{userMax}, {itemMax}\")\n",
        "# WH.count()\n",
        "print(WH)\n",
        "print(W)\n",
        "print(H)\n"
      ],
      "metadata": {
        "colab": {
          "base_uri": "https://localhost:8080/"
        },
        "id": "iJHBOS1dA_6a",
        "outputId": "2986ad4a-5bd3-45f9-9909-9b5de9ea738c"
      },
      "execution_count": 20,
      "outputs": [
        {
          "output_type": "stream",
          "name": "stdout",
          "text": [
            "944, 1683\n",
            "       userId  itemId  rating        WH      diff\n",
            "0         196     242       3  2.818468  0.032954\n",
            "1         305     242       5  3.543207  2.122245\n",
            "2           6     242       4  3.697821  0.091312\n",
            "3         234     242       4  3.658840  0.116390\n",
            "4          63     242       3  3.026163  0.000685\n",
            "...       ...     ...     ...       ...       ...\n",
            "99995     863    1679       3  0.130251  8.235459\n",
            "99996     863    1678       1  0.043417  0.915051\n",
            "99997     863    1680       2  0.086834  3.660204\n",
            "99998     896    1681       3  0.144968  8.151206\n",
            "99999     916    1682       3  0.167007  8.025847\n",
            "\n",
            "[100000 rows x 5 columns]\n",
            "     userId       WC0       WC1       WC2       WC3       WC4       WC5  \\\n",
            "0         1  1.047432  0.627536  0.496501  0.444177  0.417587  0.338999   \n",
            "1         2  0.733472  0.436124  0.361015  0.331992  0.300429  0.264809   \n",
            "2         3  0.562828  0.341955  0.283408  0.259309  0.234738  0.205221   \n",
            "3         4  0.597559  0.368498  0.312184  0.287087  0.250029  0.227515   \n",
            "4         5  0.881154  0.525544  0.414324  0.369390  0.336472  0.280240   \n",
            "..      ...       ...       ...       ...       ...       ...       ...   \n",
            "938     939  0.859075  0.524715  0.432096  0.397413  0.352241  0.314279   \n",
            "939     940  0.798290  0.492939  0.401696  0.363951  0.326536  0.281463   \n",
            "940     941  0.598253  0.357503  0.293867  0.267421  0.232868  0.208157   \n",
            "941     942  0.971514  0.579024  0.455368  0.407014  0.369800  0.311277   \n",
            "942     943  0.939471  0.557752  0.440032  0.394523  0.356173  0.302768   \n",
            "\n",
            "          WC6       WC7       WC8  ...      WC40      WC41      WC42  \\\n",
            "0    0.329099  0.317822  0.298680  ...  0.151604  0.143334  0.151076   \n",
            "1    0.268744  0.257019  0.235412  ...  0.141481  0.129154  0.127043   \n",
            "2    0.205004  0.195982  0.179348  ...  0.105803  0.096870  0.095772   \n",
            "3    0.231809  0.217808  0.194527  ...  0.123329  0.110849  0.105571   \n",
            "4    0.274311  0.260081  0.239823  ...  0.132904  0.123404  0.125014   \n",
            "..        ...       ...       ...  ...       ...       ...       ...   \n",
            "938  0.317111  0.298391  0.269507  ...  0.159201  0.144110  0.137927   \n",
            "939  0.280079  0.263919  0.239767  ...  0.127866  0.116923  0.114978   \n",
            "940  0.211713  0.197557  0.176646  ...  0.110356  0.099519  0.095087   \n",
            "941  0.305266  0.290353  0.267281  ...  0.150161  0.139219  0.139303   \n",
            "942  0.299176  0.282734  0.259725  ...  0.154665  0.142658  0.141816   \n",
            "\n",
            "         WC43      WC44      WC45      WC46      WC47      WC48      WC49  \n",
            "0    0.145718  0.139647  0.143934  0.144915  0.141845  0.141901  0.135287  \n",
            "1    0.126606  0.127228  0.124626  0.124827  0.123761  0.119764  0.119108  \n",
            "2    0.095342  0.095220  0.093888  0.094236  0.093833  0.090899  0.089963  \n",
            "3    0.107329  0.110383  0.105767  0.106145  0.106426  0.101478  0.103244  \n",
            "4    0.123690  0.120500  0.120655  0.122882  0.121271  0.119327  0.116006  \n",
            "..        ...       ...       ...       ...       ...       ...       ...  \n",
            "938  0.140136  0.141393  0.136173  0.138224  0.137713  0.131998  0.132252  \n",
            "939  0.114949  0.114649  0.112416  0.113790  0.112751  0.109448  0.108463  \n",
            "940  0.096875  0.098977  0.094855  0.095932  0.095751  0.091674  0.092895  \n",
            "941  0.138255  0.135236  0.134838  0.137407  0.135638  0.133027  0.129545  \n",
            "942  0.141799  0.139408  0.137547  0.140721  0.139203  0.135897  0.133074  \n",
            "\n",
            "[943 rows x 51 columns]\n",
            "      itemId       HC0       HC1       HC2       HC3       HC4       HC5  \\\n",
            "0          1  1.210718  0.719470  0.577153  0.510072  0.417184  0.377371   \n",
            "1          2  0.799811  0.487829  0.383872  0.344772  0.313528  0.264351   \n",
            "2          3  0.703897  0.419720  0.334532  0.302034  0.277067  0.234119   \n",
            "3          4  0.964654  0.560442  0.432253  0.381064  0.347909  0.285502   \n",
            "4          5  0.761669  0.465943  0.371414  0.334710  0.301306  0.257737   \n",
            "...      ...       ...       ...       ...       ...       ...       ...   \n",
            "1677    1678  0.011700  0.007299  0.006247  0.005740  0.005096  0.004574   \n",
            "1678    1679  0.035100  0.021896  0.018742  0.017221  0.015288  0.013723   \n",
            "1679    1680  0.023400  0.014598  0.012495  0.011481  0.010192  0.009149   \n",
            "1680    1681  0.051429  0.028720  0.020825  0.017592  0.015636  0.012388   \n",
            "1681    1682  0.045794  0.027756  0.022086  0.019766  0.019067  0.015125   \n",
            "\n",
            "           HC6       HC7       HC8  ...      HC40      HC41      HC42  \\\n",
            "0     0.390648  0.339297  0.290160  ...  0.183391  0.148792  0.158945   \n",
            "1     0.258168  0.243156  0.225723  ...  0.124506  0.118080  0.117272   \n",
            "2     0.231079  0.219325  0.205003  ...  0.119115  0.112644  0.113376   \n",
            "3     0.277992  0.264340  0.246799  ...  0.141527  0.136251  0.138051   \n",
            "4     0.255047  0.237923  0.219100  ...  0.120854  0.112051  0.112376   \n",
            "...        ...       ...       ...  ...       ...       ...       ...   \n",
            "1677  0.004748  0.004394  0.004008  ...  0.002484  0.002150  0.002245   \n",
            "1678  0.014245  0.013183  0.012024  ...  0.007451  0.006450  0.006735   \n",
            "1679  0.009497  0.008789  0.008016  ...  0.004967  0.004300  0.004490   \n",
            "1680  0.011659  0.010969  0.010176  ...  0.006296  0.006193  0.006186   \n",
            "1681  0.014335  0.014212  0.013751  ...  0.006710  0.006886  0.006955   \n",
            "\n",
            "          HC43      HC44      HC45      HC46      HC47      HC48      HC49  \n",
            "0     0.165854  0.162546  0.163963  0.175656  0.156752  0.154398  0.170375  \n",
            "1     0.116199  0.115550  0.111428  0.119473  0.111802  0.113182  0.110613  \n",
            "2     0.111497  0.111113  0.107219  0.113598  0.107121  0.108698  0.105849  \n",
            "3     0.134366  0.134758  0.130087  0.136981  0.130453  0.132932  0.127623  \n",
            "4     0.111919  0.110933  0.107613  0.115234  0.106956  0.107929  0.107190  \n",
            "...        ...       ...       ...       ...       ...       ...       ...  \n",
            "1677  0.002239  0.002199  0.002183  0.002288  0.002119  0.002119  0.002180  \n",
            "1678  0.006717  0.006597  0.006549  0.006864  0.006356  0.006356  0.006541  \n",
            "1679  0.004478  0.004398  0.004366  0.004576  0.004237  0.004237  0.004360  \n",
            "1680  0.006060  0.006128  0.005881  0.006304  0.005988  0.006131  0.005868  \n",
            "1681  0.006499  0.006623  0.006277  0.006410  0.006353  0.006580  0.005925  \n",
            "\n",
            "[1682 rows x 51 columns]\n"
          ]
        }
      ]
    }
  ],
  "metadata": {
    "colab": {
      "provenance": []
    },
    "kernelspec": {
      "display_name": "Python 3",
      "name": "python3"
    },
    "language_info": {
      "name": "python"
    }
  },
  "nbformat": 4,
  "nbformat_minor": 0
}